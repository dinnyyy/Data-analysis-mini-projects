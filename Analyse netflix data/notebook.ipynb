{
 "cells": [
  {
   "cell_type": "code",
   "execution_count": 145,
   "id": "9a76ce42",
   "metadata": {},
   "outputs": [],
   "source": [
    "import pandas as pd\n",
    "df = pd.read_csv('netflix-report/CONTENT_INTERACTION/ViewingActivity.csv')"
   ]
  },
  {
   "cell_type": "code",
   "execution_count": 146,
   "id": "95e4f859",
   "metadata": {},
   "outputs": [
    {
     "data": {
      "text/plain": [
       "(18774, 10)"
      ]
     },
     "execution_count": 146,
     "metadata": {},
     "output_type": "execute_result"
    }
   ],
   "source": [
    "df.shape"
   ]
  },
  {
   "cell_type": "code",
   "execution_count": 147,
   "id": "2d8f246d",
   "metadata": {},
   "outputs": [
    {
     "name": "stdout",
     "output_type": "stream",
     "text": [
      "Index(['Profile Name', 'Start Time', 'Duration', 'Attributes', 'Title',\n",
      "       'Supplemental Video Type', 'Device Type', 'Bookmark', 'Latest Bookmark',\n",
      "       'Country'],\n",
      "      dtype='object')\n"
     ]
    }
   ],
   "source": [
    "print(df.columns)"
   ]
  },
  {
   "cell_type": "code",
   "execution_count": 148,
   "id": "526ba3af",
   "metadata": {},
   "outputs": [
    {
     "data": {
      "text/html": [
       "<div>\n",
       "<style scoped>\n",
       "    .dataframe tbody tr th:only-of-type {\n",
       "        vertical-align: middle;\n",
       "    }\n",
       "\n",
       "    .dataframe tbody tr th {\n",
       "        vertical-align: top;\n",
       "    }\n",
       "\n",
       "    .dataframe thead th {\n",
       "        text-align: right;\n",
       "    }\n",
       "</style>\n",
       "<table border=\"1\" class=\"dataframe\">\n",
       "  <thead>\n",
       "    <tr style=\"text-align: right;\">\n",
       "      <th></th>\n",
       "      <th>Profile Name</th>\n",
       "      <th>Start Time</th>\n",
       "      <th>Duration</th>\n",
       "      <th>Attributes</th>\n",
       "      <th>Title</th>\n",
       "      <th>Supplemental Video Type</th>\n",
       "      <th>Device Type</th>\n",
       "      <th>Bookmark</th>\n",
       "      <th>Latest Bookmark</th>\n",
       "      <th>Country</th>\n",
       "    </tr>\n",
       "  </thead>\n",
       "  <tbody>\n",
       "    <tr>\n",
       "      <th>0</th>\n",
       "      <td>Dad</td>\n",
       "      <td>2025-06-22 02:56:32</td>\n",
       "      <td>00:00:56</td>\n",
       "      <td>Autoplayed: user action: None;</td>\n",
       "      <td>North Shore: Season 1_hook_01</td>\n",
       "      <td>HOOK</td>\n",
       "      <td>Firefox PC (Cadmium)</td>\n",
       "      <td>00:00:00</td>\n",
       "      <td>00:00:00</td>\n",
       "      <td>AU (Australia)</td>\n",
       "    </tr>\n",
       "    <tr>\n",
       "      <th>1</th>\n",
       "      <td>Dad</td>\n",
       "      <td>2025-06-13 11:32:56</td>\n",
       "      <td>00:26:41</td>\n",
       "      <td>Autoplayed: user action: User_Interaction;</td>\n",
       "      <td>3 Body Problem: Season 1: Judgment Day (Episod...</td>\n",
       "      <td>NaN</td>\n",
       "      <td>Google Chromecast Chromecast with GTV 1080P Se...</td>\n",
       "      <td>00:07:47</td>\n",
       "      <td>00:07:47</td>\n",
       "      <td>AU (Australia)</td>\n",
       "    </tr>\n",
       "    <tr>\n",
       "      <th>2</th>\n",
       "      <td>Dad</td>\n",
       "      <td>2025-06-13 11:32:43</td>\n",
       "      <td>00:00:04</td>\n",
       "      <td>Autoplayed: user action: None;</td>\n",
       "      <td>Plot Clip: Atlas</td>\n",
       "      <td>HOOK</td>\n",
       "      <td>Google Chromecast Chromecast with GTV 1080P Se...</td>\n",
       "      <td>00:00:04</td>\n",
       "      <td>00:00:04</td>\n",
       "      <td>AU (Australia)</td>\n",
       "    </tr>\n",
       "    <tr>\n",
       "      <th>3</th>\n",
       "      <td>Dad</td>\n",
       "      <td>2025-06-13 08:52:56</td>\n",
       "      <td>00:00:11</td>\n",
       "      <td>Autoplayed: user action: None;</td>\n",
       "      <td>Limited Series Clip 7: The Survivors</td>\n",
       "      <td>HOOK</td>\n",
       "      <td>Apple iPhone 16 Pro iPhone</td>\n",
       "      <td>00:00:11</td>\n",
       "      <td>00:00:11</td>\n",
       "      <td>AU (Australia)</td>\n",
       "    </tr>\n",
       "    <tr>\n",
       "      <th>4</th>\n",
       "      <td>Dad</td>\n",
       "      <td>2025-06-10 19:36:25</td>\n",
       "      <td>00:57:28</td>\n",
       "      <td>NaN</td>\n",
       "      <td>Dune: Part Two</td>\n",
       "      <td>NaN</td>\n",
       "      <td>Samsung CE 2023 Kant-SU2e UHD TV Smart TV</td>\n",
       "      <td>01:27:19</td>\n",
       "      <td>01:27:19</td>\n",
       "      <td>DK (Denmark)</td>\n",
       "    </tr>\n",
       "  </tbody>\n",
       "</table>\n",
       "</div>"
      ],
      "text/plain": [
       "  Profile Name           Start Time  Duration  \\\n",
       "0          Dad  2025-06-22 02:56:32  00:00:56   \n",
       "1          Dad  2025-06-13 11:32:56  00:26:41   \n",
       "2          Dad  2025-06-13 11:32:43  00:00:04   \n",
       "3          Dad  2025-06-13 08:52:56  00:00:11   \n",
       "4          Dad  2025-06-10 19:36:25  00:57:28   \n",
       "\n",
       "                                    Attributes  \\\n",
       "0              Autoplayed: user action: None;    \n",
       "1  Autoplayed: user action: User_Interaction;    \n",
       "2              Autoplayed: user action: None;    \n",
       "3              Autoplayed: user action: None;    \n",
       "4                                          NaN   \n",
       "\n",
       "                                               Title Supplemental Video Type  \\\n",
       "0                      North Shore: Season 1_hook_01                    HOOK   \n",
       "1  3 Body Problem: Season 1: Judgment Day (Episod...                     NaN   \n",
       "2                                   Plot Clip: Atlas                    HOOK   \n",
       "3               Limited Series Clip 7: The Survivors                    HOOK   \n",
       "4                                     Dune: Part Two                     NaN   \n",
       "\n",
       "                                         Device Type  Bookmark  \\\n",
       "0                               Firefox PC (Cadmium)  00:00:00   \n",
       "1  Google Chromecast Chromecast with GTV 1080P Se...  00:07:47   \n",
       "2  Google Chromecast Chromecast with GTV 1080P Se...  00:00:04   \n",
       "3                         Apple iPhone 16 Pro iPhone  00:00:11   \n",
       "4          Samsung CE 2023 Kant-SU2e UHD TV Smart TV  01:27:19   \n",
       "\n",
       "  Latest Bookmark         Country  \n",
       "0        00:00:00  AU (Australia)  \n",
       "1        00:07:47  AU (Australia)  \n",
       "2        00:00:04  AU (Australia)  \n",
       "3        00:00:11  AU (Australia)  \n",
       "4        01:27:19    DK (Denmark)  "
      ]
     },
     "execution_count": 148,
     "metadata": {},
     "output_type": "execute_result"
    }
   ],
   "source": [
    "df.head()"
   ]
  },
  {
   "cell_type": "code",
   "execution_count": 149,
   "id": "90524aa1",
   "metadata": {},
   "outputs": [],
   "source": [
    "profiles = df[\"Profile Name\"].unique().tolist()"
   ]
  },
  {
   "cell_type": "code",
   "execution_count": 150,
   "id": "5e46c532",
   "metadata": {},
   "outputs": [
    {
     "data": {
      "text/plain": [
       "array(['Firefox PC (Cadmium)',\n",
       "       'Google Chromecast Chromecast with GTV 1080P Set Top Box',\n",
       "       'Apple iPhone 16 Pro iPhone',\n",
       "       'Samsung CE 2023 Kant-SU2e UHD TV Smart TV',\n",
       "       'Samsung CE 2021 Kant-S2e UHD TV  Smart TV', 'iPad Air Wi-Fi',\n",
       "       'Apple iPhone 13 Pro', 'Apple iPhone 11', 'Chrome PC (Cadmium)',\n",
       "       'Google Chromecast V5 Streaming Stick', 'Apple TV 3 (revised)',\n",
       "       'Apple iPad 3rd Gen (Wi-Fi/ATT) iPad', 'Apple iPhone 8 (CDMA)',\n",
       "       'MStar PureTurnkey51 Changhong OEM2K Smart TV', 'Apple iPhone 6s',\n",
       "       'Apple iPad 10.2 inch 7th Gen Wi-Fi iPad',\n",
       "       'Edge OSS - Windows (Cadmium)', 'Apple iPhone 13', 'Sony PS4',\n",
       "       'Netflix Windows App - Cadmium Windows Mobile', 'iPhone SE',\n",
       "       'Microsoft Xbox One', 'Samsung 2013 MStar X12 Smart TV',\n",
       "       'Apple iPad 2 3G GSM', 'TPV PHHTV18AMT2 Smart TV', 'iPhone 12',\n",
       "       'Apple iPhone 6', 'Safari MAC (Cadmium)'], dtype=object)"
      ]
     },
     "execution_count": 150,
     "metadata": {},
     "output_type": "execute_result"
    }
   ],
   "source": [
    "df[\"Device Type\"].unique()"
   ]
  },
  {
   "cell_type": "code",
   "execution_count": 151,
   "id": "99369d4e",
   "metadata": {},
   "outputs": [
    {
     "data": {
      "text/plain": [
       "Profile Name               object\n",
       "Start Time                 object\n",
       "Duration                   object\n",
       "Attributes                 object\n",
       "Title                      object\n",
       "Supplemental Video Type    object\n",
       "Device Type                object\n",
       "Bookmark                   object\n",
       "Latest Bookmark            object\n",
       "Country                    object\n",
       "dtype: object"
      ]
     },
     "execution_count": 151,
     "metadata": {},
     "output_type": "execute_result"
    }
   ],
   "source": [
    "df.dtypes"
   ]
  },
  {
   "cell_type": "code",
   "execution_count": 152,
   "id": "3928677b",
   "metadata": {},
   "outputs": [
    {
     "data": {
      "text/plain": [
       "Profile Name                            object\n",
       "Start Time                 datetime64[ns, UTC]\n",
       "Duration                       timedelta64[ns]\n",
       "Attributes                              object\n",
       "Title                                   object\n",
       "Supplemental Video Type                 object\n",
       "Device Type                             object\n",
       "Bookmark                                object\n",
       "Latest Bookmark                         object\n",
       "Country                                 object\n",
       "dtype: object"
      ]
     },
     "execution_count": 152,
     "metadata": {},
     "output_type": "execute_result"
    }
   ],
   "source": [
    "df[\"Start Time\"] = pd.to_datetime(df[\"Start Time\"], utc=True)\n",
    "df[\"Duration\"] = pd.to_timedelta(df[\"Duration\"])\n",
    "df.dtypes"
   ]
  },
  {
   "cell_type": "code",
   "execution_count": 153,
   "id": "84f4fe56",
   "metadata": {},
   "outputs": [
    {
     "data": {
      "text/html": [
       "<div>\n",
       "<style scoped>\n",
       "    .dataframe tbody tr th:only-of-type {\n",
       "        vertical-align: middle;\n",
       "    }\n",
       "\n",
       "    .dataframe tbody tr th {\n",
       "        vertical-align: top;\n",
       "    }\n",
       "\n",
       "    .dataframe thead th {\n",
       "        text-align: right;\n",
       "    }\n",
       "</style>\n",
       "<table border=\"1\" class=\"dataframe\">\n",
       "  <thead>\n",
       "    <tr style=\"text-align: right;\">\n",
       "      <th></th>\n",
       "      <th>Profile Name</th>\n",
       "      <th>Start Time</th>\n",
       "      <th>Duration</th>\n",
       "      <th>Attributes</th>\n",
       "      <th>Title</th>\n",
       "      <th>Supplemental Video Type</th>\n",
       "      <th>Device Type</th>\n",
       "      <th>Bookmark</th>\n",
       "      <th>Latest Bookmark</th>\n",
       "      <th>Country</th>\n",
       "    </tr>\n",
       "  </thead>\n",
       "  <tbody>\n",
       "    <tr>\n",
       "      <th>0</th>\n",
       "      <td>Dad</td>\n",
       "      <td>2025-06-22 02:56:32+00:00</td>\n",
       "      <td>0 days 00:00:56</td>\n",
       "      <td>Autoplayed: user action: None;</td>\n",
       "      <td>North Shore: Season 1_hook_01</td>\n",
       "      <td>HOOK</td>\n",
       "      <td>Firefox PC (Cadmium)</td>\n",
       "      <td>00:00:00</td>\n",
       "      <td>00:00:00</td>\n",
       "      <td>AU (Australia)</td>\n",
       "    </tr>\n",
       "    <tr>\n",
       "      <th>1</th>\n",
       "      <td>Dad</td>\n",
       "      <td>2025-06-13 11:32:56+00:00</td>\n",
       "      <td>0 days 00:26:41</td>\n",
       "      <td>Autoplayed: user action: User_Interaction;</td>\n",
       "      <td>3 Body Problem: Season 1: Judgment Day (Episod...</td>\n",
       "      <td>NaN</td>\n",
       "      <td>Google Chromecast Chromecast with GTV 1080P Se...</td>\n",
       "      <td>00:07:47</td>\n",
       "      <td>00:07:47</td>\n",
       "      <td>AU (Australia)</td>\n",
       "    </tr>\n",
       "    <tr>\n",
       "      <th>2</th>\n",
       "      <td>Dad</td>\n",
       "      <td>2025-06-13 11:32:43+00:00</td>\n",
       "      <td>0 days 00:00:04</td>\n",
       "      <td>Autoplayed: user action: None;</td>\n",
       "      <td>Plot Clip: Atlas</td>\n",
       "      <td>HOOK</td>\n",
       "      <td>Google Chromecast Chromecast with GTV 1080P Se...</td>\n",
       "      <td>00:00:04</td>\n",
       "      <td>00:00:04</td>\n",
       "      <td>AU (Australia)</td>\n",
       "    </tr>\n",
       "    <tr>\n",
       "      <th>3</th>\n",
       "      <td>Dad</td>\n",
       "      <td>2025-06-13 08:52:56+00:00</td>\n",
       "      <td>0 days 00:00:11</td>\n",
       "      <td>Autoplayed: user action: None;</td>\n",
       "      <td>Limited Series Clip 7: The Survivors</td>\n",
       "      <td>HOOK</td>\n",
       "      <td>Apple iPhone 16 Pro iPhone</td>\n",
       "      <td>00:00:11</td>\n",
       "      <td>00:00:11</td>\n",
       "      <td>AU (Australia)</td>\n",
       "    </tr>\n",
       "    <tr>\n",
       "      <th>4</th>\n",
       "      <td>Dad</td>\n",
       "      <td>2025-06-10 19:36:25+00:00</td>\n",
       "      <td>0 days 00:57:28</td>\n",
       "      <td>NaN</td>\n",
       "      <td>Dune: Part Two</td>\n",
       "      <td>NaN</td>\n",
       "      <td>Samsung CE 2023 Kant-SU2e UHD TV Smart TV</td>\n",
       "      <td>01:27:19</td>\n",
       "      <td>01:27:19</td>\n",
       "      <td>DK (Denmark)</td>\n",
       "    </tr>\n",
       "  </tbody>\n",
       "</table>\n",
       "</div>"
      ],
      "text/plain": [
       "  Profile Name                Start Time        Duration  \\\n",
       "0          Dad 2025-06-22 02:56:32+00:00 0 days 00:00:56   \n",
       "1          Dad 2025-06-13 11:32:56+00:00 0 days 00:26:41   \n",
       "2          Dad 2025-06-13 11:32:43+00:00 0 days 00:00:04   \n",
       "3          Dad 2025-06-13 08:52:56+00:00 0 days 00:00:11   \n",
       "4          Dad 2025-06-10 19:36:25+00:00 0 days 00:57:28   \n",
       "\n",
       "                                    Attributes  \\\n",
       "0              Autoplayed: user action: None;    \n",
       "1  Autoplayed: user action: User_Interaction;    \n",
       "2              Autoplayed: user action: None;    \n",
       "3              Autoplayed: user action: None;    \n",
       "4                                          NaN   \n",
       "\n",
       "                                               Title Supplemental Video Type  \\\n",
       "0                      North Shore: Season 1_hook_01                    HOOK   \n",
       "1  3 Body Problem: Season 1: Judgment Day (Episod...                     NaN   \n",
       "2                                   Plot Clip: Atlas                    HOOK   \n",
       "3               Limited Series Clip 7: The Survivors                    HOOK   \n",
       "4                                     Dune: Part Two                     NaN   \n",
       "\n",
       "                                         Device Type  Bookmark  \\\n",
       "0                               Firefox PC (Cadmium)  00:00:00   \n",
       "1  Google Chromecast Chromecast with GTV 1080P Se...  00:07:47   \n",
       "2  Google Chromecast Chromecast with GTV 1080P Se...  00:00:04   \n",
       "3                         Apple iPhone 16 Pro iPhone  00:00:11   \n",
       "4          Samsung CE 2023 Kant-SU2e UHD TV Smart TV  01:27:19   \n",
       "\n",
       "  Latest Bookmark         Country  \n",
       "0        00:00:00  AU (Australia)  \n",
       "1        00:07:47  AU (Australia)  \n",
       "2        00:00:04  AU (Australia)  \n",
       "3        00:00:11  AU (Australia)  \n",
       "4        01:27:19    DK (Denmark)  "
      ]
     },
     "execution_count": 153,
     "metadata": {},
     "output_type": "execute_result"
    }
   ],
   "source": [
    "df.head()"
   ]
  },
  {
   "cell_type": "code",
   "execution_count": 154,
   "id": "2a7039d1",
   "metadata": {},
   "outputs": [
    {
     "data": {
      "text/plain": [
       "Profile Name\n",
       "Riley     5709\n",
       "Talia     4330\n",
       "Josh      3505\n",
       "Dad       2674\n",
       "Mum       2556\n",
       "Name: count, dtype: int64"
      ]
     },
     "execution_count": 154,
     "metadata": {},
     "output_type": "execute_result"
    }
   ],
   "source": [
    "df[\"Profile Name\"].value_counts()"
   ]
  },
  {
   "cell_type": "code",
   "execution_count": 155,
   "id": "7f5486b3",
   "metadata": {},
   "outputs": [
    {
     "data": {
      "text/plain": [
       "<function matplotlib.pyplot.show(close=None, block=None)>"
      ]
     },
     "execution_count": 155,
     "metadata": {},
     "output_type": "execute_result"
    },
    {
     "data": {
      "image/png": "[encoded data removed]",
      "text/plain": [
       "<Figure size 640x480 with 1 Axes>"
      ]
     },
     "metadata": {},
     "output_type": "display_data"
    }
   ],
   "source": [
    "import matplotlib\n",
    "import matplotlib.pyplot as plt\n",
    "\n",
    "df[\"Profile Name\"].value_counts().plot(kind=\"bar\")\n",
    "plt.show"
   ]
  },
  {
   "cell_type": "code",
   "execution_count": 156,
   "id": "02e7e2d4",
   "metadata": {},
   "outputs": [
    {
     "data": {
      "text/plain": [
       "Timedelta('256 days 23:41:11')"
      ]
     },
     "execution_count": 156,
     "metadata": {},
     "output_type": "execute_result"
    }
   ],
   "source": [
    "df[\"Duration\"].sum()"
   ]
  },
  {
   "cell_type": "code",
   "execution_count": 157,
   "id": "924358ef",
   "metadata": {},
   "outputs": [
    {
     "data": {
      "text/html": [
       "<div>\n",
       "<style scoped>\n",
       "    .dataframe tbody tr th:only-of-type {\n",
       "        vertical-align: middle;\n",
       "    }\n",
       "\n",
       "    .dataframe tbody tr th {\n",
       "        vertical-align: top;\n",
       "    }\n",
       "\n",
       "    .dataframe thead th {\n",
       "        text-align: right;\n",
       "    }\n",
       "</style>\n",
       "<table border=\"1\" class=\"dataframe\">\n",
       "  <thead>\n",
       "    <tr style=\"text-align: right;\">\n",
       "      <th></th>\n",
       "      <th>Profile Name</th>\n",
       "      <th>Start Time</th>\n",
       "      <th>Duration</th>\n",
       "      <th>Attributes</th>\n",
       "      <th>Title</th>\n",
       "      <th>Supplemental Video Type</th>\n",
       "      <th>Device Type</th>\n",
       "      <th>Bookmark</th>\n",
       "      <th>Latest Bookmark</th>\n",
       "      <th>Country</th>\n",
       "    </tr>\n",
       "  </thead>\n",
       "  <tbody>\n",
       "    <tr>\n",
       "      <th>2673</th>\n",
       "      <td>Dad</td>\n",
       "      <td>2017-12-19 04:10:54+00:00</td>\n",
       "      <td>0 days 00:24:51</td>\n",
       "      <td>NaN</td>\n",
       "      <td>Pumping Iron</td>\n",
       "      <td>NaN</td>\n",
       "      <td>Apple TV 3 (revised)</td>\n",
       "      <td>00:31:49</td>\n",
       "      <td>Not latest view</td>\n",
       "      <td>AU (Australia)</td>\n",
       "    </tr>\n",
       "    <tr>\n",
       "      <th>6178</th>\n",
       "      <td>Josh</td>\n",
       "      <td>2017-12-19 07:52:06+00:00</td>\n",
       "      <td>0 days 00:00:01</td>\n",
       "      <td>NaN</td>\n",
       "      <td>Rick and Morty: Season 1: Pilot (Episode 1)</td>\n",
       "      <td>NaN</td>\n",
       "      <td>iPhone SE</td>\n",
       "      <td>00:00:01</td>\n",
       "      <td>Not latest view</td>\n",
       "      <td>AU (Australia)</td>\n",
       "    </tr>\n",
       "    <tr>\n",
       "      <th>2672</th>\n",
       "      <td>Dad</td>\n",
       "      <td>2017-12-19 07:53:19+00:00</td>\n",
       "      <td>0 days 00:09:52</td>\n",
       "      <td>NaN</td>\n",
       "      <td>Pumping Iron</td>\n",
       "      <td>NaN</td>\n",
       "      <td>Apple TV 3 (revised)</td>\n",
       "      <td>00:41:21</td>\n",
       "      <td>Not latest view</td>\n",
       "      <td>AU (Australia)</td>\n",
       "    </tr>\n",
       "    <tr>\n",
       "      <th>2671</th>\n",
       "      <td>Dad</td>\n",
       "      <td>2017-12-19 08:04:17+00:00</td>\n",
       "      <td>0 days 00:12:16</td>\n",
       "      <td>NaN</td>\n",
       "      <td>Pumping Iron</td>\n",
       "      <td>NaN</td>\n",
       "      <td>Apple TV 3 (revised)</td>\n",
       "      <td>00:54:24</td>\n",
       "      <td>Not latest view</td>\n",
       "      <td>AU (Australia)</td>\n",
       "    </tr>\n",
       "    <tr>\n",
       "      <th>18773</th>\n",
       "      <td>Talia</td>\n",
       "      <td>2017-12-19 08:22:05+00:00</td>\n",
       "      <td>0 days 00:14:11</td>\n",
       "      <td>NaN</td>\n",
       "      <td>Phineas and Ferb: Season 3: The Great Indoors ...</td>\n",
       "      <td>NaN</td>\n",
       "      <td>iPad Air Wi-Fi</td>\n",
       "      <td>00:14:15</td>\n",
       "      <td>Not latest view</td>\n",
       "      <td>AU (Australia)</td>\n",
       "    </tr>\n",
       "    <tr>\n",
       "      <th>...</th>\n",
       "      <td>...</td>\n",
       "      <td>...</td>\n",
       "      <td>...</td>\n",
       "      <td>...</td>\n",
       "      <td>...</td>\n",
       "      <td>...</td>\n",
       "      <td>...</td>\n",
       "      <td>...</td>\n",
       "      <td>...</td>\n",
       "      <td>...</td>\n",
       "    </tr>\n",
       "    <tr>\n",
       "      <th>14446</th>\n",
       "      <td>Talia</td>\n",
       "      <td>2025-06-21 12:46:23+00:00</td>\n",
       "      <td>0 days 00:00:30</td>\n",
       "      <td>Autoplayed: user action: None;</td>\n",
       "      <td>Season 1 Clip 2: The Waterfront</td>\n",
       "      <td>HOOK</td>\n",
       "      <td>Chrome PC (Cadmium)</td>\n",
       "      <td>00:00:30</td>\n",
       "      <td>00:00:30</td>\n",
       "      <td>AU (Australia)</td>\n",
       "    </tr>\n",
       "    <tr>\n",
       "      <th>14445</th>\n",
       "      <td>Talia</td>\n",
       "      <td>2025-06-21 12:49:17+00:00</td>\n",
       "      <td>0 days 00:49:52</td>\n",
       "      <td>NaN</td>\n",
       "      <td>Outer Banks: Season 4: The Blue Crown (Episode...</td>\n",
       "      <td>NaN</td>\n",
       "      <td>Chrome PC (Cadmium)</td>\n",
       "      <td>01:20:26</td>\n",
       "      <td>01:20:26</td>\n",
       "      <td>AU (Australia)</td>\n",
       "    </tr>\n",
       "    <tr>\n",
       "      <th>6179</th>\n",
       "      <td>Mum</td>\n",
       "      <td>2025-06-21 13:04:36+00:00</td>\n",
       "      <td>0 days 00:00:05</td>\n",
       "      <td>Autoplayed: user action: None;</td>\n",
       "      <td>Season 1 Clip 5: Sara - Woman in the Shadows</td>\n",
       "      <td>HOOK</td>\n",
       "      <td>Google Chromecast Chromecast with GTV 1080P Se...</td>\n",
       "      <td>00:00:05</td>\n",
       "      <td>00:00:05</td>\n",
       "      <td>AU (Australia)</td>\n",
       "    </tr>\n",
       "    <tr>\n",
       "      <th>14444</th>\n",
       "      <td>Talia</td>\n",
       "      <td>2025-06-21 13:44:29+00:00</td>\n",
       "      <td>0 days 00:00:08</td>\n",
       "      <td>Autoplayed: user action: None;</td>\n",
       "      <td>Season 1 Trailer: The Waterfront</td>\n",
       "      <td>TRAILER</td>\n",
       "      <td>Chrome PC (Cadmium)</td>\n",
       "      <td>00:00:08</td>\n",
       "      <td>00:00:08</td>\n",
       "      <td>AU (Australia)</td>\n",
       "    </tr>\n",
       "    <tr>\n",
       "      <th>0</th>\n",
       "      <td>Dad</td>\n",
       "      <td>2025-06-22 02:56:32+00:00</td>\n",
       "      <td>0 days 00:00:56</td>\n",
       "      <td>Autoplayed: user action: None;</td>\n",
       "      <td>North Shore: Season 1_hook_01</td>\n",
       "      <td>HOOK</td>\n",
       "      <td>Firefox PC (Cadmium)</td>\n",
       "      <td>00:00:00</td>\n",
       "      <td>00:00:00</td>\n",
       "      <td>AU (Australia)</td>\n",
       "    </tr>\n",
       "  </tbody>\n",
       "</table>\n",
       "<p>18774 rows × 10 columns</p>\n",
       "</div>"
      ],
      "text/plain": [
       "      Profile Name                Start Time        Duration  \\\n",
       "2673           Dad 2017-12-19 04:10:54+00:00 0 days 00:24:51   \n",
       "6178          Josh 2017-12-19 07:52:06+00:00 0 days 00:00:01   \n",
       "2672           Dad 2017-12-19 07:53:19+00:00 0 days 00:09:52   \n",
       "2671           Dad 2017-12-19 08:04:17+00:00 0 days 00:12:16   \n",
       "18773        Talia 2017-12-19 08:22:05+00:00 0 days 00:14:11   \n",
       "...            ...                       ...             ...   \n",
       "14446        Talia 2025-06-21 12:46:23+00:00 0 days 00:00:30   \n",
       "14445        Talia 2025-06-21 12:49:17+00:00 0 days 00:49:52   \n",
       "6179           Mum 2025-06-21 13:04:36+00:00 0 days 00:00:05   \n",
       "14444        Talia 2025-06-21 13:44:29+00:00 0 days 00:00:08   \n",
       "0              Dad 2025-06-22 02:56:32+00:00 0 days 00:00:56   \n",
       "\n",
       "                            Attributes  \\\n",
       "2673                               NaN   \n",
       "6178                               NaN   \n",
       "2672                               NaN   \n",
       "2671                               NaN   \n",
       "18773                              NaN   \n",
       "...                                ...   \n",
       "14446  Autoplayed: user action: None;    \n",
       "14445                              NaN   \n",
       "6179   Autoplayed: user action: None;    \n",
       "14444  Autoplayed: user action: None;    \n",
       "0      Autoplayed: user action: None;    \n",
       "\n",
       "                                                   Title  \\\n",
       "2673                                        Pumping Iron   \n",
       "6178         Rick and Morty: Season 1: Pilot (Episode 1)   \n",
       "2672                                        Pumping Iron   \n",
       "2671                                        Pumping Iron   \n",
       "18773  Phineas and Ferb: Season 3: The Great Indoors ...   \n",
       "...                                                  ...   \n",
       "14446                    Season 1 Clip 2: The Waterfront   \n",
       "14445  Outer Banks: Season 4: The Blue Crown (Episode...   \n",
       "6179        Season 1 Clip 5: Sara - Woman in the Shadows   \n",
       "14444                   Season 1 Trailer: The Waterfront   \n",
       "0                          North Shore: Season 1_hook_01   \n",
       "\n",
       "      Supplemental Video Type  \\\n",
       "2673                      NaN   \n",
       "6178                      NaN   \n",
       "2672                      NaN   \n",
       "2671                      NaN   \n",
       "18773                     NaN   \n",
       "...                       ...   \n",
       "14446                    HOOK   \n",
       "14445                     NaN   \n",
       "6179                     HOOK   \n",
       "14444                 TRAILER   \n",
       "0                        HOOK   \n",
       "\n",
       "                                             Device Type  Bookmark  \\\n",
       "2673                                Apple TV 3 (revised)  00:31:49   \n",
       "6178                                           iPhone SE  00:00:01   \n",
       "2672                                Apple TV 3 (revised)  00:41:21   \n",
       "2671                                Apple TV 3 (revised)  00:54:24   \n",
       "18773                                     iPad Air Wi-Fi  00:14:15   \n",
       "...                                                  ...       ...   \n",
       "14446                                Chrome PC (Cadmium)  00:00:30   \n",
       "14445                                Chrome PC (Cadmium)  01:20:26   \n",
       "6179   Google Chromecast Chromecast with GTV 1080P Se...  00:00:05   \n",
       "14444                                Chrome PC (Cadmium)  00:00:08   \n",
       "0                                   Firefox PC (Cadmium)  00:00:00   \n",
       "\n",
       "       Latest Bookmark         Country  \n",
       "2673   Not latest view  AU (Australia)  \n",
       "6178   Not latest view  AU (Australia)  \n",
       "2672   Not latest view  AU (Australia)  \n",
       "2671   Not latest view  AU (Australia)  \n",
       "18773  Not latest view  AU (Australia)  \n",
       "...                ...             ...  \n",
       "14446         00:00:30  AU (Australia)  \n",
       "14445         01:20:26  AU (Australia)  \n",
       "6179          00:00:05  AU (Australia)  \n",
       "14444         00:00:08  AU (Australia)  \n",
       "0             00:00:00  AU (Australia)  \n",
       "\n",
       "[18774 rows x 10 columns]"
      ]
     },
     "execution_count": 157,
     "metadata": {},
     "output_type": "execute_result"
    }
   ],
   "source": [
    "df.sort_values(\"Start Time\")"
   ]
  },
  {
   "cell_type": "code",
   "execution_count": 158,
   "id": "165dfb23",
   "metadata": {},
   "outputs": [],
   "source": [
    "profile_dfs = {\n",
    "    name: group for name, group in df.groupby(\"Profile Name\")\n",
    "}"
   ]
  },
  {
   "cell_type": "code",
   "execution_count": 159,
   "id": "c62d45ae",
   "metadata": {},
   "outputs": [
    {
     "data": {
      "text/html": [
       "<div>\n",
       "<style scoped>\n",
       "    .dataframe tbody tr th:only-of-type {\n",
       "        vertical-align: middle;\n",
       "    }\n",
       "\n",
       "    .dataframe tbody tr th {\n",
       "        vertical-align: top;\n",
       "    }\n",
       "\n",
       "    .dataframe thead th {\n",
       "        text-align: right;\n",
       "    }\n",
       "</style>\n",
       "<table border=\"1\" class=\"dataframe\">\n",
       "  <thead>\n",
       "    <tr style=\"text-align: right;\">\n",
       "      <th></th>\n",
       "      <th>Profile Name</th>\n",
       "      <th>Start Time</th>\n",
       "      <th>Duration</th>\n",
       "      <th>Attributes</th>\n",
       "      <th>Title</th>\n",
       "      <th>Supplemental Video Type</th>\n",
       "      <th>Device Type</th>\n",
       "      <th>Bookmark</th>\n",
       "      <th>Latest Bookmark</th>\n",
       "      <th>Country</th>\n",
       "    </tr>\n",
       "  </thead>\n",
       "  <tbody>\n",
       "    <tr>\n",
       "      <th>2674</th>\n",
       "      <td>Josh</td>\n",
       "      <td>2025-06-08 20:33:09+00:00</td>\n",
       "      <td>0 days 00:33:45</td>\n",
       "      <td>NaN</td>\n",
       "      <td>The Interview</td>\n",
       "      <td>NaN</td>\n",
       "      <td>Edge OSS - Windows (Cadmium)</td>\n",
       "      <td>01:47:49</td>\n",
       "      <td>01:47:49</td>\n",
       "      <td>ES (Spain)</td>\n",
       "    </tr>\n",
       "    <tr>\n",
       "      <th>2675</th>\n",
       "      <td>Josh</td>\n",
       "      <td>2025-06-08 20:33:03+00:00</td>\n",
       "      <td>0 days 00:00:04</td>\n",
       "      <td>Autoplayed: user action: None;</td>\n",
       "      <td>Power: Season 1_hook_primary_16x9</td>\n",
       "      <td>HOOK</td>\n",
       "      <td>Edge OSS - Windows (Cadmium)</td>\n",
       "      <td>00:00:04</td>\n",
       "      <td>00:00:04</td>\n",
       "      <td>DK (Denmark)</td>\n",
       "    </tr>\n",
       "    <tr>\n",
       "      <th>2676</th>\n",
       "      <td>Josh</td>\n",
       "      <td>2025-06-08 20:30:09+00:00</td>\n",
       "      <td>0 days 00:02:01</td>\n",
       "      <td>NaN</td>\n",
       "      <td>Sleepless in Seattle</td>\n",
       "      <td>NaN</td>\n",
       "      <td>Edge OSS - Windows (Cadmium)</td>\n",
       "      <td>00:03:19</td>\n",
       "      <td>00:03:19</td>\n",
       "      <td>DK (Denmark)</td>\n",
       "    </tr>\n",
       "    <tr>\n",
       "      <th>2677</th>\n",
       "      <td>Josh</td>\n",
       "      <td>2025-06-08 20:29:58+00:00</td>\n",
       "      <td>0 days 00:00:05</td>\n",
       "      <td>Autoplayed: user action: None;</td>\n",
       "      <td>Power: Season 1_hook_primary_16x9</td>\n",
       "      <td>HOOK</td>\n",
       "      <td>Edge OSS - Windows (Cadmium)</td>\n",
       "      <td>00:00:05</td>\n",
       "      <td>Not latest view</td>\n",
       "      <td>DK (Denmark)</td>\n",
       "    </tr>\n",
       "    <tr>\n",
       "      <th>2678</th>\n",
       "      <td>Josh</td>\n",
       "      <td>2025-06-08 20:25:04+00:00</td>\n",
       "      <td>0 days 00:02:46</td>\n",
       "      <td>NaN</td>\n",
       "      <td>Sleepless in Seattle</td>\n",
       "      <td>NaN</td>\n",
       "      <td>Chrome PC (Cadmium)</td>\n",
       "      <td>00:01:41</td>\n",
       "      <td>Not latest view</td>\n",
       "      <td>DK (Denmark)</td>\n",
       "    </tr>\n",
       "  </tbody>\n",
       "</table>\n",
       "</div>"
      ],
      "text/plain": [
       "     Profile Name                Start Time        Duration  \\\n",
       "2674         Josh 2025-06-08 20:33:09+00:00 0 days 00:33:45   \n",
       "2675         Josh 2025-06-08 20:33:03+00:00 0 days 00:00:04   \n",
       "2676         Josh 2025-06-08 20:30:09+00:00 0 days 00:02:01   \n",
       "2677         Josh 2025-06-08 20:29:58+00:00 0 days 00:00:05   \n",
       "2678         Josh 2025-06-08 20:25:04+00:00 0 days 00:02:46   \n",
       "\n",
       "                           Attributes                              Title  \\\n",
       "2674                              NaN                      The Interview   \n",
       "2675  Autoplayed: user action: None;   Power: Season 1_hook_primary_16x9   \n",
       "2676                              NaN               Sleepless in Seattle   \n",
       "2677  Autoplayed: user action: None;   Power: Season 1_hook_primary_16x9   \n",
       "2678                              NaN               Sleepless in Seattle   \n",
       "\n",
       "     Supplemental Video Type                   Device Type  Bookmark  \\\n",
       "2674                     NaN  Edge OSS - Windows (Cadmium)  01:47:49   \n",
       "2675                    HOOK  Edge OSS - Windows (Cadmium)  00:00:04   \n",
       "2676                     NaN  Edge OSS - Windows (Cadmium)  00:03:19   \n",
       "2677                    HOOK  Edge OSS - Windows (Cadmium)  00:00:05   \n",
       "2678                     NaN           Chrome PC (Cadmium)  00:01:41   \n",
       "\n",
       "      Latest Bookmark       Country  \n",
       "2674         01:47:49    ES (Spain)  \n",
       "2675         00:00:04  DK (Denmark)  \n",
       "2676         00:03:19  DK (Denmark)  \n",
       "2677  Not latest view  DK (Denmark)  \n",
       "2678  Not latest view  DK (Denmark)  "
      ]
     },
     "execution_count": 159,
     "metadata": {},
     "output_type": "execute_result"
    }
   ],
   "source": [
    "profile_dfs[\"Josh\"].head()"
   ]
  },
  {
   "cell_type": "code",
   "execution_count": 160,
   "id": "1e8aad4c",
   "metadata": {},
   "outputs": [
    {
     "name": "stdout",
     "output_type": "stream",
     "text": [
      "Dad: 37 days 01:54:14\n",
      "Josh: 48 days 09:19:31\n",
      "Mum: 33 days 06:28:50\n",
      "Riley : 83 days 12:58:03\n",
      "Talia: 54 days 17:00:33\n"
     ]
    }
   ],
   "source": [
    "for item in profiles:\n",
    "    print(f\"{item}: {profile_dfs[item][\"Duration\"].sum()}\")"
   ]
  },
  {
   "cell_type": "code",
   "execution_count": 161,
   "id": "c15c8af9",
   "metadata": {},
   "outputs": [],
   "source": [
    "viewTime = {}\n",
    "\n",
    "for item in profiles:\n",
    "    total_duration = profile_dfs[item][\"Duration\"]\n",
    "    \n",
    "    # Ensure it's in timedelta format\n",
    "    total_duration = pd.to_timedelta(total_duration)\n",
    "    \n",
    "    # Sum and convert to total seconds (as float)\n",
    "    total_seconds = total_duration.sum().total_seconds()\n",
    "    \n",
    "    viewTime[item] = total_seconds  # or total_seconds / 3600 for hours\n"
   ]
  },
  {
   "cell_type": "code",
   "execution_count": 162,
   "id": "832b9fd6",
   "metadata": {},
   "outputs": [
    {
     "data": {
      "image/png": "[encoded data removed]",
      "text/plain": [
       "<Figure size 800x500 with 1 Axes>"
      ]
     },
     "metadata": {},
     "output_type": "display_data"
    }
   ],
   "source": [
    "import matplotlib.pyplot as plt\n",
    "\n",
    "plt.figure(figsize=(8, 5))\n",
    "plt.bar(*zip(*viewTime.items()))\n",
    "plt.xlabel(\"Profile\")\n",
    "plt.ylabel(\"View Time (seconds)\")  # or \"hours\" if you divide by 3600\n",
    "plt.title(\"Total Viewing Time per Profile\")\n",
    "plt.xticks(rotation=45)\n",
    "plt.tight_layout()\n",
    "plt.show()\n"
   ]
  },
  {
   "cell_type": "code",
   "execution_count": 163,
   "id": "62dc7320",
   "metadata": {},
   "outputs": [
    {
     "data": {
      "text/plain": [
       "Supplemental Video Type\n",
       "HOOK              1294\n",
       "TRAILER            331\n",
       "TEASER_TRAILER      83\n",
       "RECAP               14\n",
       "Name: count, dtype: int64"
      ]
     },
     "execution_count": 163,
     "metadata": {},
     "output_type": "execute_result"
    }
   ],
   "source": [
    "\n",
    "df['Supplemental Video Type'].value_counts()"
   ]
  },
  {
   "cell_type": "code",
   "execution_count": 164,
   "id": "c62dbf54",
   "metadata": {},
   "outputs": [
    {
     "data": {
      "text/plain": [
       "Profile Name\n",
       "Riley     5520\n",
       "Talia     4067\n",
       "Josh      3310\n",
       "Dad       2152\n",
       "Mum       2003\n",
       "Name: count, dtype: int64"
      ]
     },
     "execution_count": 164,
     "metadata": {},
     "output_type": "execute_result"
    }
   ],
   "source": [
    "df = df.loc[df['Supplemental Video Type'].isnull()]\n",
    "profile_counts = df[\"Profile Name\"].value_counts().to_dict()\n",
    "\n",
    "df[\"Profile Name\"].value_counts()\n"
   ]
  },
  {
   "cell_type": "code",
   "execution_count": 165,
   "id": "b362ff35",
   "metadata": {},
   "outputs": [
    {
     "name": "stdout",
     "output_type": "stream",
     "text": [
      "Dad average: 24.81\n",
      "Josh average: 21.05\n",
      "Mum average: 23.92\n",
      "Riley  average: 21.79\n",
      "Talia average: 19.37\n"
     ]
    }
   ],
   "source": [
    "for item in profiles:\n",
    "    average = profile_dfs[item][\"Duration\"].sum()/profile_counts[item]\n",
    "    average = average.total_seconds() / 60\n",
    "    print(f\"{item} average: {round(average, 2)}\")"
   ]
  },
  {
   "cell_type": "code",
   "execution_count": 166,
   "id": "3e955753",
   "metadata": {},
   "outputs": [
    {
     "data": {
      "text/plain": [
       "Device Type\n",
       "Apple TV 3 (revised)                                       3434\n",
       "Chrome PC (Cadmium)                                        2691\n",
       "Netflix Windows App - Cadmium Windows Mobile               1933\n",
       "Apple iPhone 11                                            1544\n",
       "Apple iPhone 6s                                            1370\n",
       "Google Chromecast Chromecast with GTV 1080P Set Top Box    1277\n",
       "iPhone SE                                                   788\n",
       "iPad Air Wi-Fi                                              704\n",
       "Apple iPhone 8 (CDMA)                                       640\n",
       "Google Chromecast V5 Streaming Stick                        561\n",
       "Apple iPad 10.2 inch 7th Gen Wi-Fi iPad                     561\n",
       "Sony PS4                                                    342\n",
       "Apple iPhone 13 Pro                                         257\n",
       "Apple iPhone 6                                              225\n",
       "Firefox PC (Cadmium)                                        223\n",
       "Edge OSS - Windows (Cadmium)                                218\n",
       "Apple iPhone 13                                             127\n",
       "Apple iPad 3rd Gen (Wi-Fi/ATT) iPad                          83\n",
       "Apple iPad 2 3G GSM                                          22\n",
       "Microsoft Xbox One                                           14\n",
       "Samsung CE 2021 Kant-S2e UHD TV  Smart TV                    13\n",
       "TPV PHHTV18AMT2 Smart TV                                      9\n",
       "Samsung CE 2023 Kant-SU2e UHD TV Smart TV                     8\n",
       "Apple iPhone 16 Pro iPhone                                    3\n",
       "iPhone 12                                                     2\n",
       "MStar PureTurnkey51 Changhong OEM2K Smart TV                  1\n",
       "Samsung 2013 MStar X12 Smart TV                               1\n",
       "Safari MAC (Cadmium)                                          1\n",
       "Name: count, dtype: int64"
      ]
     },
     "execution_count": 166,
     "metadata": {},
     "output_type": "execute_result"
    }
   ],
   "source": [
    "df[\"Device Type\"].value_counts()"
   ]
  },
  {
   "cell_type": "code",
   "execution_count": 167,
   "id": "37392122",
   "metadata": {},
   "outputs": [
    {
     "data": {
      "image/png": "[encoded data removed]",
      "text/plain": [
       "<Figure size 640x480 with 1 Axes>"
      ]
     },
     "metadata": {},
     "output_type": "display_data"
    }
   ],
   "source": [
    "df['Device Type'].value_counts().plot(kind='bar')\n",
    "plt.show()"
   ]
  },
  {
   "cell_type": "code",
   "execution_count": 168,
   "id": "4f5c6fc2",
   "metadata": {},
   "outputs": [
    {
     "data": {
      "text/plain": [
       "Device Type\n",
       "Netflix Windows App - Cadmium Windows Mobile               1323\n",
       "iPhone SE                                                   788\n",
       "Apple iPhone 8 (CDMA)                                       406\n",
       "Edge OSS - Windows (Cadmium)                                309\n",
       "Apple iPhone 13                                             148\n",
       "Apple TV 3 (revised)                                        146\n",
       "Sony PS4                                                    134\n",
       "Google Chromecast Chromecast with GTV 1080P Set Top Box     105\n",
       "Chrome PC (Cadmium)                                          58\n",
       "Google Chromecast V5 Streaming Stick                         29\n",
       "Apple iPad 2 3G GSM                                          21\n",
       "iPad Air Wi-Fi                                               19\n",
       "Microsoft Xbox One                                            8\n",
       "Samsung CE 2021 Kant-S2e UHD TV  Smart TV                     8\n",
       "Samsung CE 2023 Kant-SU2e UHD TV Smart TV                     2\n",
       "Samsung 2013 MStar X12 Smart TV                               1\n",
       "Name: count, dtype: int64"
      ]
     },
     "execution_count": 168,
     "metadata": {},
     "output_type": "execute_result"
    }
   ],
   "source": [
    "profile_dfs[\"Josh\"][\"Device Type\"].value_counts()"
   ]
  },
  {
   "cell_type": "code",
   "execution_count": 169,
   "id": "9ad28dd9",
   "metadata": {},
   "outputs": [
    {
     "name": "stdout",
     "output_type": "stream",
     "text": [
      "Dad's top 10 movies (minutes):\n",
      "The Stranger:189, All Quiet on the Western Front:175, John Wick:148, King Richard:141, El Camino: A Breaking Bad Movie:135, Pelé:132, Bohemian Rhapsody:132, Midway:129, Stranger Things: Stranger Things 4: Chapter Nine: The Piggyback (Episode 9):129, Wonder Woman:128\n",
      "\n",
      "Josh's top 10 movies (minutes):\n",
      "The Wolf of Wall Street:497, John Wick:391, Interstellar:331, Shaft:305, The Hunger Games: Catching Fire:296, The Dark Knight:270, Shutter Island:261, Dirty Grandpa:235, John Wick: Chapter 2:218, Mr. & Mrs. Smith:217\n",
      "\n",
      "Mum's top 10 movies (minutes):\n",
      "Carry-On:223, Annie:203, Elvis:151, Gone Girl:145, Love Actually:142, Eat Pray Love:140, Glass Onion: A Knives Out Mystery:140, Just Mercy:134, Leave the World Behind:134, Gilmore Girls: Season 1: Pilot (Episode 1):133\n",
      "\n",
      "Riley 's top 10 movies (minutes):\n",
      "The Wolf of Wall Street:349, The Hunger Games: Catching Fire:270, Jigsaw:266, Harry Potter and the Philosopher's Stone:259, The Kissing Booth 2:252, Moneyball:249, The Hunger Games:247, The Hangover:230, The Hunger Games: Mockingjay - Part 1:224, John Wick: Chapter 2:212\n",
      "\n",
      "Talia's top 10 movies (minutes):\n",
      "The Christmas Chronicles: Part Two:419, The Christmas Chronicles:314, Ballerina:284, Glass Onion: A Knives Out Mystery:243, Mean Girls:226, Murder Mystery:225, A 2nd Chance:222, My Little Pony Equestria Girls: Rainbow Rocks:214, Feel the Beat:210, Paddington 2:206\n",
      "\n"
     ]
    }
   ],
   "source": [
    "most_watched = {}\n",
    "\n",
    "for profile in profiles:\n",
    "    temp_df = profile_dfs[profile].copy()\n",
    "    title_watch_times = temp_df.groupby(\"Title\")[\"Duration\"].sum().dt.total_seconds() / 60\n",
    "    top_10 = title_watch_times.sort_values(ascending=False).head(10)\n",
    "    titles = [f\"{title}:{int(hours)}\" for title, hours in top_10.items()]\n",
    "\n",
    "    most_watched[profile] = top_10\n",
    "    print(f\"{profile}'s top 10 movies (minutes):\")\n",
    "    print(\", \".join(titles))\n",
    "    print()\n",
    "\n"
   ]
  },
  {
   "cell_type": "code",
   "execution_count": 170,
   "id": "f75aff93",
   "metadata": {},
   "outputs": [
    {
     "name": "stdout",
     "output_type": "stream",
     "text": [
      "Dad's top 10 shows (hours):\n",
      "Suits:68, Formula 1:38, Money Heist:30, Brooklyn Nine-Nine:30, Ozark:26, The Umbrella Academy:22, The Last Kingdom:22, The Witcher:17, Designated Survivor:16, Narcos:15\n",
      "\n",
      "Josh's top 10 shows (hours):\n",
      "The Vampire Diaries:224, How I Met Your Mother:147, Blindspot:70, Brooklyn Nine-Nine:68, Lucifer:64, Marvel's Daredevil:33, Rick and Morty:29, South Park:25, Riverdale:24, Marvel's The Punisher:21\n",
      "\n",
      "Mum's top 10 shows (hours):\n",
      "Suits:52, The Crown:38, Emily in Paris:37, Virgin River:33, Gilmore Girls:32, The Resident:32, Bridgerton:22, Stranger Things:21, Anne with an E:21, Lupin:19\n",
      "\n",
      "Riley 's top 10 shows (hours):\n",
      "Suits:165, Brooklyn Nine-Nine:150, How I Met Your Mother:146, Shameless (U.S.):121, The 100:103, Friends:73, Blindspot:70, The Rookie:69, Stranger Things:58, Prison Break:55\n",
      "\n",
      "Talia's top 10 shows (hours):\n",
      "Gilmore Girls:181, Gossip Girl:83, Outer Banks:60, H2O:58, Prison Break:55, The Rookie:54, ALVINNN!!! And the Chipmunks:46, Ginny & Georgia:36, The Boss Baby:34, Teen Titans Go!:30\n",
      "\n"
     ]
    }
   ],
   "source": [
    "import re\n",
    "def clean_title(title):\n",
    "    return re.sub(r\":.*\",\"\", title).strip()\n",
    "\n",
    "most_watched = {}\n",
    "\n",
    "for profile in profiles:\n",
    "    temp_df = profile_dfs[profile].copy()\n",
    "    temp_df[\"CleanTitle\"] = temp_df[\"Title\"].apply(clean_title)\n",
    "    show_watch_times = temp_df.groupby(\"CleanTitle\")[\"Duration\"].sum().dt.total_seconds() / 60 /60\n",
    "    top_10 = show_watch_times.sort_values(ascending=False).head(10)\n",
    "    titles = [f\"{title}:{int(hours)}\" for title, hours in top_10.items()]\n",
    "    most_watched[profile] = top_10\n",
    "    print(f\"{profile}'s top 10 shows (hours):\")\n",
    "    print(\", \".join(titles))\n",
    "    print()"
   ]
  },
  {
   "cell_type": "code",
   "execution_count": 171,
   "id": "856dc907",
   "metadata": {},
   "outputs": [],
   "source": [
    "def is_movie(title):\n",
    "    # Exclude if title mentions season, episode, volume, chapter\n",
    "    tv_keywords = [\"season\", \"episode\", \"volume\", \"chapter\", \"s[0-9]+e[0-9]+\"]  # include regex pattern too\n",
    "    title_lower = title.lower()\n",
    "    return not any(kw in title_lower for kw in tv_keywords)\n",
    "\n",
    "def is_not_clip(row):\n",
    "    # Optional: filter out trailers, hooks, and teasers\n",
    "    return pd.isna(row[\"Supplemental Video Type\"])\n",
    "\n",
    "# Apply to each profile's dataframe\n",
    "dad_df = profile_dfs[\"Dad\"]\n",
    "dad_movies = dad_df[dad_df[\"Title\"].apply(is_movie) & dad_df.apply(is_not_clip, axis=1)]\n",
    "\n",
    "# Drop duplicates to avoid listing the same movie multiple times\n",
    "unique_movies = dad_movies[\"Title\"].drop_duplicates()\n",
    "\n",
    "# Save to a .txt file (one title per line)\n",
    "with open(\"dad_movies.txt\", \"w\", encoding=\"utf-8\") as f:\n",
    "    for title in unique_movies:\n",
    "        f.write(title + \"\\n\")"
   ]
  },
  {
   "cell_type": "code",
   "execution_count": 172,
   "id": "68cf1029",
   "metadata": {},
   "outputs": [
    {
     "data": {
      "image/png": "[encoded data removed]",
      "text/plain": [
       "<Figure size 640x480 with 1 Axes>"
      ]
     },
     "metadata": {},
     "output_type": "display_data"
    }
   ],
   "source": [
    "for profile in profiles:\n",
    "\n",
    "    profile_dfs[profile][\"Start Time\"] = pd.to_datetime(df[\"Start Time\"])  # ensure datetime type\n",
    "    profile_dfs[profile][\"Year\"] = df[\"Start Time\"].dt.year\n",
    "    profile_dfs[profile+'year'] = profile_dfs[profile].groupby('Year')[\"Duration\"].sum().dt.total_seconds() / 60 / 60\n",
    "\n",
    "years_df = pd.DataFrame()\n",
    "for profile in profiles:\n",
    "    years_df[profile] = profile_dfs[profile+'year']\n",
    "years_df.index = years_df.index.astype(int)\n",
    "\n",
    "years_df.plot(kind=\"bar\")\n",
    "plt.ylabel(\"Watch time (hours)\")\n",
    "plt.title(\"Watch time per title by profile\")\n",
    "\n",
    "plt.legend()\n",
    "plt.tight_layout()\n",
    "plt.show()\n",
    "    "
   ]
  },
  {
   "cell_type": "code",
   "execution_count": 173,
   "id": "d9c7be46",
   "metadata": {},
   "outputs": [
    {
     "data": {
      "text/plain": [
       "Year\n",
       "2017.0     36.808889\n",
       "2018.0    248.448333\n",
       "2019.0    231.673889\n",
       "2020.0    244.700278\n",
       "2021.0    311.095556\n",
       "2022.0    548.375556\n",
       "2023.0    233.216944\n",
       "2024.0    131.793333\n",
       "2025.0     17.845833\n",
       "Name: Duration, dtype: float64"
      ]
     },
     "execution_count": 173,
     "metadata": {},
     "output_type": "execute_result"
    }
   ],
   "source": [
    "profile_dfs[\"Riley year\"]"
   ]
  },
  {
   "cell_type": "code",
   "execution_count": null,
   "id": "665ac9a8",
   "metadata": {},
   "outputs": [],
   "source": []
  }
 ],
 "metadata": {
  "kernelspec": {
   "display_name": "Python 3",
   "language": "python",
   "name": "python3"
  },
  "language_info": {
   "codemirror_mode": {
    "name": "ipython",
    "version": 3
   },
   "file_extension": ".py",
   "mimetype": "text/x-python",
   "name": "python",
   "nbconvert_exporter": "python",
   "pygments_lexer": "ipython3",
   "version": "3.13.1"
  }
 },
 "nbformat": 4,
 "nbformat_minor": 5
}
